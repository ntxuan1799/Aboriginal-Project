{
  "nbformat": 4,
  "nbformat_minor": 0,
  "metadata": {
    "colab": {
      "provenance": [],
      "authorship_tag": "ABX9TyNPzAHI/mH3PSEAUuGoRb6t",
      "include_colab_link": true
    },
    "kernelspec": {
      "name": "python3",
      "display_name": "Python 3"
    },
    "language_info": {
      "name": "python"
    }
  },
  "cells": [
    {
      "cell_type": "markdown",
      "metadata": {
        "id": "view-in-github",
        "colab_type": "text"
      },
      "source": [
        "<a href=\"https://colab.research.google.com/github/ntxuan1799/Aboriginal-Project/blob/main/Cleaned_data.ipynb\" target=\"_parent\"><img src=\"https://colab.research.google.com/assets/colab-badge.svg\" alt=\"Open In Colab\"/></a>"
      ]
    },
    {
      "cell_type": "code",
      "source": [
        "import pandas as pd\n",
        "import numpy as np\n",
        "from datetime import datetime\n",
        "import re\n",
        "import string\n",
        "import nltk\n",
        "from nltk.corpus import stopwords\n",
        "from nltk.tokenize import word_tokenize\n",
        "nltk.download('stopwords')\n",
        "nltk.download('punkt')\n",
        "nltk.download('punkt_tab')"
      ],
      "metadata": {
        "colab": {
          "base_uri": "https://localhost:8080/"
        },
        "id": "aNPa4gZHVJrJ",
        "outputId": "211002ca-1056-4176-ba38-72de91bf5fc5"
      },
      "execution_count": 42,
      "outputs": [
        {
          "output_type": "stream",
          "name": "stderr",
          "text": [
            "[nltk_data] Downloading package stopwords to /root/nltk_data...\n",
            "[nltk_data]   Package stopwords is already up-to-date!\n",
            "[nltk_data] Downloading package punkt to /root/nltk_data...\n",
            "[nltk_data]   Package punkt is already up-to-date!\n",
            "[nltk_data] Downloading package punkt_tab to /root/nltk_data...\n",
            "[nltk_data]   Package punkt_tab is already up-to-date!\n"
          ]
        },
        {
          "output_type": "execute_result",
          "data": {
            "text/plain": [
              "True"
            ]
          },
          "metadata": {},
          "execution_count": 42
        }
      ]
    },
    {
      "cell_type": "code",
      "execution_count": 43,
      "metadata": {
        "id": "qGAzg8B9U56K"
      },
      "outputs": [],
      "source": [
        "df = pd.read_csv(\"merged_socialmedia_data.csv\")"
      ]
    },
    {
      "cell_type": "code",
      "source": [
        "# Initial cleaning\n",
        "df = df[df['Content'].apply(lambda x: isinstance(x, str))]\n",
        "df['Content'] = df['Content'].str.lower()\n",
        "df['Content'] = df['Content'].str.encode('ascii', 'ignore').str.decode('ascii')\n",
        "df['Title'] = df['Title'].str.encode('ascii', 'ignore').str.decode('ascii')\n",
        "\n",
        "def clean_text(text):\n",
        "    if not isinstance(text, str):\n",
        "        return \"\"\n",
        "\n",
        "    text = re.sub(r\"http\\S+|www\\S+|https\\S+\", '', text)\n",
        "    text = re.sub(r\"@\\w+|#\\w+\", '', text)\n",
        "    text = re.sub(r\"\\d+\", '', text)\n",
        "    return text\n",
        "\n",
        "df['Content'] = df['Content'].apply(clean_text)\n",
        "df['Content'] = df['Content'].apply(lambda x: x.translate(str.maketrans('', '', string.punctuation)))"
      ],
      "metadata": {
        "id": "eVkxv1wIVAh9"
      },
      "execution_count": 44,
      "outputs": []
    },
    {
      "cell_type": "code",
      "source": [
        "def parse_mixed_date(val):\n",
        "    try:\n",
        "        # Handle missing or NaN\n",
        "        if pd.isna(val) or val in [\"N/A\", \"\"]:\n",
        "            return pd.Timestamp(\"2023-10-14\").date()\n",
        "\n",
        "        val_str = str(val).strip()\n",
        "\n",
        "        # If it's a number and looks like a Unix timestamp\n",
        "        if val_str.isdigit():\n",
        "            ts_int = int(val_str)\n",
        "            if 1000000000 < ts_int < 2000000000:  # UNIX timestamp range\n",
        "                return pd.to_datetime(ts_int, unit='s').date()\n",
        "\n",
        "        # Handle ISO 8601 format (e.g., 2023-09-07T00:14:31Z)\n",
        "        if 'T' in val_str:\n",
        "            return pd.to_datetime(val_str, utc=True).date()\n",
        "\n",
        "        # Handle string date format (e.g., 30/1/2025 or 20/6/2024 14:31)\n",
        "        return pd.to_datetime(val_str, dayfirst=True, errors='coerce').date()\n",
        "\n",
        "    except:\n",
        "        return pd.Timestamp(\"2023-10-14\").date()\n",
        "\n",
        "# Apply conversion\n",
        "df['Date'] = df['Date'].apply(parse_mixed_date)\n",
        "\n",
        "# Confirm format\n",
        "df['Date'] = pd.to_datetime(df['Date']).dt.date\n",
        "\n",
        "print(\"All Date values are now in format YYYY-MM-DD with missing values filled as 2023-10-14.\")"
      ],
      "metadata": {
        "colab": {
          "base_uri": "https://localhost:8080/"
        },
        "id": "tL9eY5DJVGGL",
        "outputId": "efc296ed-d81d-4c5d-92db-5f4fad45c983"
      },
      "execution_count": 45,
      "outputs": [
        {
          "output_type": "stream",
          "name": "stdout",
          "text": [
            "All Date values are now in format YYYY-MM-DD with missing values filled as 2023-10-14.\n"
          ]
        }
      ]
    },
    {
      "cell_type": "code",
      "source": [
        "# Convert Date column to datetime and remove timezone information\n",
        "df['Date'] = pd.to_datetime(df['Date'], errors='coerce').dt.tz_localize(None)\n",
        "df['day'] = df['Date'].dt.date\n",
        "\n",
        "referendum_date = pd.Timestamp(\"2023-10-14\").date()\n",
        "df['Period'] = df['day'].apply(lambda x: 'Before' if x < referendum_date else 'After')"
      ],
      "metadata": {
        "id": "Iz6KTTacVMh9"
      },
      "execution_count": 46,
      "outputs": []
    },
    {
      "cell_type": "code",
      "source": [
        "# Optional: Save cleaned data\n",
        "df.to_csv(\"merged_socialmedia_data_cleaned.csv\", index=False)"
      ],
      "metadata": {
        "id": "a2v9M4NbVN9q"
      },
      "execution_count": 47,
      "outputs": []
    }
  ]
}